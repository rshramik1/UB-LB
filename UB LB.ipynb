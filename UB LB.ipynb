{
 "cells": [
  {
   "cell_type": "code",
   "execution_count": 14,
   "id": "e2361092",
   "metadata": {},
   "outputs": [],
   "source": [
    "import pandas as pd\n",
    "import numpy as np\n",
    "\n",
    "# Define the input file path\n",
    "input_file = \"2014- chmz.xlsx\"\n",
    "\n",
    "# Read the input XLSX file\n",
    "df = pd.read_excel(input_file)\n",
    "\n",
    "# Initialize an empty dictionary to store the values for each hour\n",
    "hourly_values = {hour: [] for hour in range(24)}\n",
    "\n",
    "# Iterate over the rows and append values to the corresponding hour's list\n",
    "for index, row in df.iterrows():\n",
    "    hour = int(row[2])  # Assuming hour is in the first column, adjust as needed\n",
    "    value = float(row[9])  # Assuming data value is in the second column, adjust as needed\n",
    "    \n",
    "    hourly_values[hour].append(value)\n",
    "\n",
    "# Calculate the median and standard deviation for each hour\n",
    "hourly_medians = {hour: np.median(values) for hour, values in hourly_values.items()}\n",
    "hourly_std = {hour: np.std(values) for hour, values in hourly_values.items()}\n",
    "\n",
    "# Calculate the upper bound (UB) and lower bound (LB) for each hour\n",
    "hourly_ub = {hour: median + 1.3 * std for hour, median, std in zip(hourly_medians.keys(), hourly_medians.values(), hourly_std.values())}\n",
    "hourly_lb = {hour: median - 1.3 * std for hour, median, std in zip(hourly_medians.keys(), hourly_medians.values(), hourly_std.values())}\n",
    "\n",
    "# Add the median, standard deviation, upper bound, and lower bound columns to the input DataFrame\n",
    "df['Median Value'] = df['Hour'].map(hourly_medians)\n",
    "df['Standard Deviation'] = df['Hour'].map(hourly_std)\n",
    "df['Upper Bound'] = df['Hour'].map(hourly_ub)\n",
    "df['Lower Bound'] = df['Hour'].map(hourly_lb)\n",
    "\n",
    "# Generate the categories based on the number of rows\n",
    "num_rows = len(df)\n",
    "categories = ['A', 'B', 'C'] * (num_rows // 3)  # Adjust the categories as needed\n",
    "\n",
    "# Add the new \"Category\" column to the DataFrame\n",
    "df['Category'] = categories[:num_rows]\n",
    "\n",
    "# Save the modified DataFrame to the input XLSX file\n",
    "df.to_excel(input_file, index=False)\n"
   ]
  },
  {
   "cell_type": "code",
   "execution_count": null,
   "id": "1d2aff24",
   "metadata": {},
   "outputs": [],
   "source": []
  },
  {
   "cell_type": "code",
   "execution_count": null,
   "id": "5ef0210e",
   "metadata": {},
   "outputs": [],
   "source": []
  },
  {
   "cell_type": "code",
   "execution_count": null,
   "id": "ea5d317d",
   "metadata": {},
   "outputs": [],
   "source": []
  },
  {
   "cell_type": "code",
   "execution_count": null,
   "id": "0c02671b",
   "metadata": {},
   "outputs": [],
   "source": []
  }
 ],
 "metadata": {
  "kernelspec": {
   "display_name": "Python 3 (ipykernel)",
   "language": "python",
   "name": "python3"
  },
  "language_info": {
   "codemirror_mode": {
    "name": "ipython",
    "version": 3
   },
   "file_extension": ".py",
   "mimetype": "text/x-python",
   "name": "python",
   "nbconvert_exporter": "python",
   "pygments_lexer": "ipython3",
   "version": "3.10.4"
  }
 },
 "nbformat": 4,
 "nbformat_minor": 5
}
